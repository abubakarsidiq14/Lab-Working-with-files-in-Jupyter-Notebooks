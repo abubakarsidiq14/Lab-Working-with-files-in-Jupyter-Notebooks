{
 "cells": [
  {
   "cell_type": "markdown",
   "id": "7924c546",
   "metadata": {},
   "source": [
    "# Data Science Tools and Ecosystem"
   ]
  },
  {
   "attachments": {},
   "cell_type": "markdown",
   "id": "e392d5a0",
   "metadata": {},
   "source": [
    "In this notebook, Data Science Tools and Ecosystem are summarized."
   ]
  },
  {
   "cell_type": "markdown",
   "id": "87a0b703",
   "metadata": {},
   "source": [
    "#  list data science languages"
   ]
  },
  {
   "cell_type": "markdown",
   "id": "3115cc5d",
   "metadata": {},
   "source": [
    "Some of the popular languages that Data Scientists use are:\n",
    "1. Python\n",
    "2. R\n",
    "3. SQL"
   ]
  },
  {
   "cell_type": "markdown",
   "id": "3c36990c",
   "metadata": {},
   "source": [
    "# list data science libraries"
   ]
  },
  {
   "cell_type": "markdown",
   "id": "6255133f",
   "metadata": {},
   "source": [
    "Some of the commonly used libraries used by Data Scientists include:\n",
    "1. NumPy.\n",
    "2. Keras.\n",
    "3. Pandas.\n",
    "4. PyTorch.\n",
    "5. SciPy.\n",
    "6. Scikit-Learn."
   ]
  },
  {
   "cell_type": "markdown",
   "id": "95a077f9",
   "metadata": {},
   "source": [
    "# Data Science tools"
   ]
  },
  {
   "cell_type": "markdown",
   "id": "5ca4021d",
   "metadata": {},
   "source": [
    "\n",
    "| Data Science Tools |\n",
    "|---|---|\n",
    "| Jupyter Notebook |\n",
    "| RStudio |\n",
    "| Spyder |"
   ]
  },
  {
   "cell_type": "code",
   "execution_count": null,
   "id": "0b42d431",
   "metadata": {},
   "outputs": [],
   "source": []
  },
  {
   "cell_type": "code",
   "execution_count": null,
   "id": "96887dbf",
   "metadata": {},
   "outputs": [],
   "source": []
  },
  {
   "cell_type": "markdown",
   "id": "3e3ac7a2",
   "metadata": {},
   "source": [
    "# introducing arithmetic expression examples"
   ]
  },
  {
   "cell_type": "markdown",
   "id": "ae5d31ff",
   "metadata": {},
   "source": [
    "Below are a few examples of evaluating arithmetic expressions in Python:\n",
    "1. 5 + 3\n",
    "2. 7 - 2\n",
    "3. 2 * 6\n",
    "4. 5 / 2\n",
    "5. (5 + 3) * 7\n",
    "6. (7 - 2) / (2 + 1)"
   ]
  },
  {
   "cell_type": "code",
   "execution_count": 1,
   "id": "fe55a114",
   "metadata": {},
   "outputs": [
    {
     "name": "stdout",
     "output_type": "stream",
     "text": [
      "17\n"
     ]
    }
   ],
   "source": [
    "#(3*4)+5\n",
    "a = 3\n",
    "b = 4\n",
    "c = 5\n",
    "print((a*b)+c)"
   ]
  },
  {
   "cell_type": "code",
   "execution_count": null,
   "id": "c8d3dc8a",
   "metadata": {},
   "outputs": [],
   "source": []
  },
  {
   "cell_type": "markdown",
   "id": "29417120",
   "metadata": {},
   "source": [
    "**Objectives:**\n",
    "\n",
    "* List popular languages for Data Science\n",
    "* Introduce arithmetic expression examples\n",
    "* Multiply and add numbers in Python"
   ]
  },
  {
   "cell_type": "markdown",
   "id": "f86f5fa8",
   "metadata": {},
   "source": [
    "## Author Name : Abubakarsidiq Patel"
   ]
  }
 ],
 "metadata": {
  "kernelspec": {
   "display_name": "Python 3 (ipykernel)",
   "language": "python",
   "name": "python3"
  },
  "language_info": {
   "codemirror_mode": {
    "name": "ipython",
    "version": 3
   },
   "file_extension": ".py",
   "mimetype": "text/x-python",
   "name": "python",
   "nbconvert_exporter": "python",
   "pygments_lexer": "ipython3",
   "version": "3.10.2"
  }
 },
 "nbformat": 4,
 "nbformat_minor": 5
}
